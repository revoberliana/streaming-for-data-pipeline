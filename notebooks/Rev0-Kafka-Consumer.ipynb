{
 "cells": [
  {
   "cell_type": "code",
   "execution_count": null,
   "metadata": {
    "tags": []
   },
   "outputs": [],
   "source": [
    "import json\n",
    "import uuid\n",
    "import os\n",
    "import json\n",
    "from dotenv import load_dotenv\n",
    "from pathlib import Path\n",
    "from kafka import KafkaProducer\n",
    "from faker import Faker\n",
    "from time import sleep\n",
    "from collections import defaultdict"
   ]
  },
  {
   "cell_type": "code",
   "execution_count": null,
   "metadata": {},
   "outputs": [],
   "source": [
    "# Path ke folder data (sejajar dengan notebooks)\n",
    "data_folder = \"../data\"  \n",
    "os.makedirs(data_folder, exist_ok=True)"
   ]
  },
  {
   "cell_type": "code",
   "execution_count": 2,
   "metadata": {
    "tags": []
   },
   "outputs": [
    {
     "data": {
      "text/plain": [
       "True"
      ]
     },
     "execution_count": 2,
     "metadata": {},
     "output_type": "execute_result"
    }
   ],
   "source": [
    "dotenv_path = Path('/resources/.env')\n",
    "load_dotenv(dotenv_path=dotenv_path)"
   ]
  },
  {
   "cell_type": "code",
   "execution_count": 3,
   "metadata": {
    "tags": []
   },
   "outputs": [],
   "source": [
    "kafka_host = os.getenv('KAFKA_HOST')\n",
    "kafka_topic = os.getenv('KAFKA_TOPIC_NAME')\n",
    "kafka_topic_partition = os.getenv('KAFKA_TOPIC_NAME')+\"-1\""
   ]
  },
  {
   "cell_type": "code",
   "execution_count": null,
   "metadata": {
    "tags": []
   },
   "outputs": [],
   "source": [
    "from kafka import KafkaConsumer\n",
    "\n",
    "# Kafka Consumer\n",
    "consumer = KafkaConsumer(\n",
    "    kafka_topic_partition,\n",
    "    group_id='dibimbing-group',\n",
    "    bootstrap_servers=[f'{kafka_host}:9092'],\n",
    "    value_deserializer=lambda m: json.loads(m.decode('utf-8'))  # Konversi dari JSON string ke dictionary\n",
    ")"
   ]
  },
  {
   "cell_type": "code",
   "execution_count": null,
   "metadata": {
    "tags": []
   },
   "outputs": [
    {
     "name": "stdout",
     "output_type": "stream",
     "text": [
      "topic-book-1:0:14: key=None value=b'{\"id_book\": \"57f42a39-66e5-471e-8a14-c892cba478a9\", \"author\": \"Steven Rodriguez\", \"title\": \"Site attorney.\", \"genre\": \"Fantasy\", \"price\": 111301, \"stock\": 3, \"publish_id\": 1610838154}'\n",
      "topic-book-1:0:15: key=None value=b'{\"id_book\": \"e8b90fc9-acf0-4d36-9af9-006a3096337d\", \"author\": \"Ryan Page\", \"title\": \"But often effect.\", \"genre\": \"Fantasy\", \"price\": 124866, \"stock\": 74, \"publish_id\": 1250231874}'\n",
      "topic-book-1:0:16: key=None value=b'{\"id_book\": \"bb305e6d-00eb-47e0-b321-edc6492fc5be\", \"author\": \"Kelly Black\", \"title\": \"Among little.\", \"genre\": \"Fantasy\", \"price\": 131368, \"stock\": 65, \"publish_id\": 1122411699}'\n",
      "topic-book-1:0:17: key=None value=b'{\"id_book\": \"5a65f9d5-256f-45af-b215-ade625851493\", \"author\": \"Gregory Stewart\", \"title\": \"Society always who.\", \"genre\": \"Non-fiction\", \"price\": 17355, \"stock\": 20, \"publish_id\": 1146770756}'\n",
      "topic-book-1:0:18: key=None value=b'{\"id_book\": \"d6072bca-1f77-424b-a046-13587a25c9ec\", \"author\": \"Lynn Miller\", \"title\": \"This me.\", \"genre\": \"Biography\", \"price\": 11047, \"stock\": 37, \"publish_id\": 632450259}'\n",
      "topic-book-1:0:19: key=None value=b'{\"id_book\": \"4ea25d11-51d8-4415-a1ce-3c6fcedb250a\", \"author\": \"Nicole Williams\", \"title\": \"Trade assume.\", \"genre\": \"Biography\", \"price\": 109706, \"stock\": 55, \"publish_id\": 1238476404}'\n",
      "topic-book-1:0:20: key=None value=b'{\"id_book\": \"c2f3ea9f-2e24-4dc7-aa20-ff7d1caebc29\", \"author\": \"Joel Waller\", \"title\": \"Plant onto receive.\", \"genre\": \"Fiction\", \"price\": 49066, \"stock\": 57, \"publish_id\": 1312913973}'\n",
      "topic-book-1:0:21: key=None value=b'{\"id_book\": \"e1a41077-fc39-4fb8-98b0-11aae0d57bca\", \"author\": \"Joseph Gaines\", \"title\": \"Money oil.\", \"genre\": \"Non-fiction\", \"price\": 135391, \"stock\": 50, \"publish_id\": 876480611}'\n",
      "topic-book-1:0:22: key=None value=b'{\"id_book\": \"2f9262f0-0e2a-45b2-a6ea-487e71aaa339\", \"author\": \"Howard Erickson\", \"title\": \"Almost by.\", \"genre\": \"Fiction\", \"price\": 130661, \"stock\": 33, \"publish_id\": 5595291}'\n",
      "topic-book-1:0:23: key=None value=b'{\"id_book\": \"730017c5-d284-4bcd-8e1a-b2e9b4ced4bb\", \"author\": \"Dr. Angela Mitchell MD\", \"title\": \"Professional evidence authority.\", \"genre\": \"Sci-Fi\", \"price\": 111562, \"stock\": 0, \"publish_id\": 787197911}'\n",
      "topic-book-1:0:24: key=None value=b'{\"id_book\": \"093ddbab-8609-4999-81e0-9add82dd1e63\", \"author\": \"Ronald Dixon\", \"title\": \"Image learn happy although.\", \"genre\": \"Fiction\", \"price\": 137623, \"stock\": 59, \"publish_id\": 120882175}'\n",
      "topic-book-1:0:25: key=None value=b'{\"id_book\": \"4eb15676-205a-4d97-b5b6-b0d5dd454dac\", \"author\": \"Sharon Livingston\", \"title\": \"Series life film.\", \"genre\": \"Biography\", \"price\": 40071, \"stock\": 12, \"publish_id\": 1491288375}'\n",
      "topic-book-1:0:26: key=None value=b'{\"id_book\": \"4d5b2d34-1500-4de3-a69e-44d0a36ec900\", \"author\": \"Barry Martinez\", \"title\": \"Ability fire break.\", \"genre\": \"Sci-Fi\", \"price\": 145427, \"stock\": 58, \"publish_id\": 1120169850}'\n",
      "topic-book-1:0:27: key=None value=b'{\"id_book\": \"d9239185-87e7-4c0b-8fe2-1c746be7c849\", \"author\": \"James Matthews\", \"title\": \"Dinner rock network.\", \"genre\": \"Sci-Fi\", \"price\": 68789, \"stock\": 51, \"publish_id\": 1700645528}'\n",
      "topic-book-1:0:28: key=None value=b'{\"id_book\": \"b87ddff2-08bb-4cd1-80aa-3f830d8f1898\", \"author\": \"Ryan Ramirez\", \"title\": \"Say.\", \"genre\": \"Sci-Fi\", \"price\": 74739, \"stock\": 98, \"publish_id\": 708829883}'\n",
      "topic-book-1:0:29: key=None value=b'{\"id_book\": \"8bb822c0-f62a-4068-92c8-fc2d5f5ee17d\", \"author\": \"Michelle Bryan\", \"title\": \"Can power.\", \"genre\": \"Biography\", \"price\": 124808, \"stock\": 60, \"publish_id\": 220612240}'\n",
      "topic-book-1:0:30: key=None value=b'{\"id_book\": \"5eac72e4-30f9-43d1-91d2-f37ca51735b2\", \"author\": \"Jacqueline Williams\", \"title\": \"Former picture.\", \"genre\": \"Fantasy\", \"price\": 63960, \"stock\": 96, \"publish_id\": 559857081}'\n",
      "topic-book-1:0:31: key=None value=b'{\"id_book\": \"7d88d6a5-0715-47ef-a483-50e147bb9d9e\", \"author\": \"Frederick Kaiser\", \"title\": \"Available avoid cold husband.\", \"genre\": \"Non-fiction\", \"price\": 129154, \"stock\": 63, \"publish_id\": 1340512281}'\n",
      "topic-book-1:0:32: key=None value=b'{\"id_book\": \"104563b6-e561-4d9f-b46f-7b6a8165e53b\", \"author\": \"Michael Hall\", \"title\": \"Magazine off.\", \"genre\": \"Biography\", \"price\": 76002, \"stock\": 52, \"publish_id\": 316007699}'\n",
      "topic-book-1:0:33: key=None value=b'{\"id_book\": \"87aa8fdd-ed56-40ec-80bf-d58122defbbc\", \"author\": \"Jerry Singh\", \"title\": \"Hard class edge.\", \"genre\": \"Non-fiction\", \"price\": 45919, \"stock\": 2, \"publish_id\": 993119498}'\n",
      "topic-book-1:0:34: key=None value=b'{\"id_book\": \"3353aedd-d737-4285-a192-fa3381afd314\", \"author\": \"Alice Smith\", \"title\": \"With technology.\", \"genre\": \"Sci-Fi\", \"price\": 25253, \"stock\": 70, \"publish_id\": 1201253370}'\n",
      "topic-book-1:0:35: key=None value=b'{\"id_book\": \"fc606e67-c520-4a79-b416-a9516a0042c0\", \"author\": \"Charles Carrillo\", \"title\": \"Model particularly get.\", \"genre\": \"Biography\", \"price\": 51810, \"stock\": 22, \"publish_id\": 494221240}'\n",
      "topic-book-1:0:36: key=None value=b'{\"id_book\": \"2a72c75e-b991-4b7a-a552-0178adbf1c52\", \"author\": \"Thomas Cabrera\", \"title\": \"Beyond model.\", \"genre\": \"Sci-Fi\", \"price\": 140298, \"stock\": 83, \"publish_id\": 226067099}'\n",
      "topic-book-1:0:37: key=None value=b'{\"id_book\": \"38dcde1b-7194-483f-8d70-f435e89a3cbe\", \"author\": \"Cameron Dennis\", \"title\": \"One traditional.\", \"genre\": \"Fiction\", \"price\": 13359, \"stock\": 76, \"publish_id\": 1024173823}'\n",
      "topic-book-1:0:38: key=None value=b'{\"id_book\": \"e63f83b7-1498-4a0f-8a76-11531cdb8192\", \"author\": \"Neil Dawson\", \"title\": \"Around anything.\", \"genre\": \"Biography\", \"price\": 116005, \"stock\": 93, \"publish_id\": 1140281901}'\n",
      "topic-book-1:0:39: key=None value=b'{\"id_book\": \"41f1b325-63c3-41b5-9f57-7cff8ba7115e\", \"author\": \"Rebecca Mcclain\", \"title\": \"Military later not.\", \"genre\": \"Fantasy\", \"price\": 72796, \"stock\": 65, \"publish_id\": 1533938502}'\n",
      "topic-book-1:0:40: key=None value=b'{\"id_book\": \"de724b77-2cd1-4bf1-b6bc-dfac30f28eb6\", \"author\": \"Oscar Lane\", \"title\": \"Program tough.\", \"genre\": \"Non-fiction\", \"price\": 149984, \"stock\": 83, \"publish_id\": 216190654}'\n",
      "topic-book-1:0:41: key=None value=b'{\"id_book\": \"c045e868-71af-4fcd-89d8-be1293170dc3\", \"author\": \"Kimberly Hodge\", \"title\": \"Effort word those.\", \"genre\": \"Biography\", \"price\": 24324, \"stock\": 44, \"publish_id\": 1232261889}'\n",
      "topic-book-1:0:42: key=None value=b'{\"id_book\": \"b1dbd4b0-b0cf-44e5-b825-da2fc4fb7cec\", \"author\": \"Scott Graham\", \"title\": \"From adult yes.\", \"genre\": \"Fiction\", \"price\": 113716, \"stock\": 20, \"publish_id\": 1491589142}'\n"
     ]
    },
    {
     "ename": "KeyboardInterrupt",
     "evalue": "",
     "output_type": "error",
     "traceback": [
      "\u001b[0;31m---------------------------------------------------------------------------\u001b[0m",
      "\u001b[0;31mKeyboardInterrupt\u001b[0m                         Traceback (most recent call last)",
      "Cell \u001b[0;32mIn[5], line 1\u001b[0m\n\u001b[0;32m----> 1\u001b[0m \u001b[38;5;28;01mfor\u001b[39;00m message \u001b[38;5;129;01min\u001b[39;00m consumer:\n\u001b[1;32m      2\u001b[0m     \u001b[38;5;28mprint\u001b[39m (\u001b[38;5;124m\"\u001b[39m\u001b[38;5;132;01m%s\u001b[39;00m\u001b[38;5;124m:\u001b[39m\u001b[38;5;132;01m%d\u001b[39;00m\u001b[38;5;124m:\u001b[39m\u001b[38;5;132;01m%d\u001b[39;00m\u001b[38;5;124m: key=\u001b[39m\u001b[38;5;132;01m%s\u001b[39;00m\u001b[38;5;124m value=\u001b[39m\u001b[38;5;132;01m%s\u001b[39;00m\u001b[38;5;124m\"\u001b[39m \u001b[38;5;241m%\u001b[39m (message\u001b[38;5;241m.\u001b[39mtopic, message\u001b[38;5;241m.\u001b[39mpartition,\n\u001b[1;32m      3\u001b[0m                                           message\u001b[38;5;241m.\u001b[39moffset, message\u001b[38;5;241m.\u001b[39mkey,\n\u001b[1;32m      4\u001b[0m                                           message\u001b[38;5;241m.\u001b[39mvalue))\n",
      "File \u001b[0;32m/opt/conda/lib/python3.10/site-packages/kafka/consumer/group.py:1193\u001b[0m, in \u001b[0;36mKafkaConsumer.__next__\u001b[0;34m(self)\u001b[0m\n\u001b[1;32m   1191\u001b[0m     \u001b[38;5;28;01mreturn\u001b[39;00m \u001b[38;5;28mself\u001b[39m\u001b[38;5;241m.\u001b[39mnext_v1()\n\u001b[1;32m   1192\u001b[0m \u001b[38;5;28;01melse\u001b[39;00m:\n\u001b[0;32m-> 1193\u001b[0m     \u001b[38;5;28;01mreturn\u001b[39;00m \u001b[38;5;28;43mself\u001b[39;49m\u001b[38;5;241;43m.\u001b[39;49m\u001b[43mnext_v2\u001b[49m\u001b[43m(\u001b[49m\u001b[43m)\u001b[49m\n",
      "File \u001b[0;32m/opt/conda/lib/python3.10/site-packages/kafka/consumer/group.py:1201\u001b[0m, in \u001b[0;36mKafkaConsumer.next_v2\u001b[0;34m(self)\u001b[0m\n\u001b[1;32m   1199\u001b[0m     \u001b[38;5;28mself\u001b[39m\u001b[38;5;241m.\u001b[39m_iterator \u001b[38;5;241m=\u001b[39m \u001b[38;5;28mself\u001b[39m\u001b[38;5;241m.\u001b[39m_message_generator_v2()\n\u001b[1;32m   1200\u001b[0m \u001b[38;5;28;01mtry\u001b[39;00m:\n\u001b[0;32m-> 1201\u001b[0m     \u001b[38;5;28;01mreturn\u001b[39;00m \u001b[38;5;28;43mnext\u001b[39;49m\u001b[43m(\u001b[49m\u001b[38;5;28;43mself\u001b[39;49m\u001b[38;5;241;43m.\u001b[39;49m\u001b[43m_iterator\u001b[49m\u001b[43m)\u001b[49m\n\u001b[1;32m   1202\u001b[0m \u001b[38;5;28;01mexcept\u001b[39;00m \u001b[38;5;167;01mStopIteration\u001b[39;00m:\n\u001b[1;32m   1203\u001b[0m     \u001b[38;5;28mself\u001b[39m\u001b[38;5;241m.\u001b[39m_iterator \u001b[38;5;241m=\u001b[39m \u001b[38;5;28;01mNone\u001b[39;00m\n",
      "File \u001b[0;32m/opt/conda/lib/python3.10/site-packages/kafka/consumer/group.py:1116\u001b[0m, in \u001b[0;36mKafkaConsumer._message_generator_v2\u001b[0;34m(self)\u001b[0m\n\u001b[1;32m   1114\u001b[0m \u001b[38;5;28;01mdef\u001b[39;00m \u001b[38;5;21m_message_generator_v2\u001b[39m(\u001b[38;5;28mself\u001b[39m):\n\u001b[1;32m   1115\u001b[0m     timeout_ms \u001b[38;5;241m=\u001b[39m \u001b[38;5;241m1000\u001b[39m \u001b[38;5;241m*\u001b[39m (\u001b[38;5;28mself\u001b[39m\u001b[38;5;241m.\u001b[39m_consumer_timeout \u001b[38;5;241m-\u001b[39m time\u001b[38;5;241m.\u001b[39mtime())\n\u001b[0;32m-> 1116\u001b[0m     record_map \u001b[38;5;241m=\u001b[39m \u001b[38;5;28;43mself\u001b[39;49m\u001b[38;5;241;43m.\u001b[39;49m\u001b[43mpoll\u001b[49m\u001b[43m(\u001b[49m\u001b[43mtimeout_ms\u001b[49m\u001b[38;5;241;43m=\u001b[39;49m\u001b[43mtimeout_ms\u001b[49m\u001b[43m,\u001b[49m\u001b[43m \u001b[49m\u001b[43mupdate_offsets\u001b[49m\u001b[38;5;241;43m=\u001b[39;49m\u001b[38;5;28;43;01mFalse\u001b[39;49;00m\u001b[43m)\u001b[49m\n\u001b[1;32m   1117\u001b[0m     \u001b[38;5;28;01mfor\u001b[39;00m tp, records \u001b[38;5;129;01min\u001b[39;00m six\u001b[38;5;241m.\u001b[39miteritems(record_map):\n\u001b[1;32m   1118\u001b[0m         \u001b[38;5;66;03m# Generators are stateful, and it is possible that the tp / records\u001b[39;00m\n\u001b[1;32m   1119\u001b[0m         \u001b[38;5;66;03m# here may become stale during iteration -- i.e., we seek to a\u001b[39;00m\n\u001b[1;32m   1120\u001b[0m         \u001b[38;5;66;03m# different offset, pause consumption, or lose assignment.\u001b[39;00m\n\u001b[1;32m   1121\u001b[0m         \u001b[38;5;28;01mfor\u001b[39;00m record \u001b[38;5;129;01min\u001b[39;00m records:\n\u001b[1;32m   1122\u001b[0m             \u001b[38;5;66;03m# is_fetchable(tp) should handle assignment changes and offset\u001b[39;00m\n\u001b[1;32m   1123\u001b[0m             \u001b[38;5;66;03m# resets; for all other changes (e.g., seeks) we'll rely on the\u001b[39;00m\n\u001b[1;32m   1124\u001b[0m             \u001b[38;5;66;03m# outer function destroying the existing iterator/generator\u001b[39;00m\n\u001b[1;32m   1125\u001b[0m             \u001b[38;5;66;03m# via self._iterator = None\u001b[39;00m\n",
      "File \u001b[0;32m/opt/conda/lib/python3.10/site-packages/kafka/consumer/group.py:655\u001b[0m, in \u001b[0;36mKafkaConsumer.poll\u001b[0;34m(self, timeout_ms, max_records, update_offsets)\u001b[0m\n\u001b[1;32m    653\u001b[0m remaining \u001b[38;5;241m=\u001b[39m timeout_ms\n\u001b[1;32m    654\u001b[0m \u001b[38;5;28;01mwhile\u001b[39;00m \u001b[38;5;28;01mTrue\u001b[39;00m:\n\u001b[0;32m--> 655\u001b[0m     records \u001b[38;5;241m=\u001b[39m \u001b[38;5;28;43mself\u001b[39;49m\u001b[38;5;241;43m.\u001b[39;49m\u001b[43m_poll_once\u001b[49m\u001b[43m(\u001b[49m\u001b[43mremaining\u001b[49m\u001b[43m,\u001b[49m\u001b[43m \u001b[49m\u001b[43mmax_records\u001b[49m\u001b[43m,\u001b[49m\u001b[43m \u001b[49m\u001b[43mupdate_offsets\u001b[49m\u001b[38;5;241;43m=\u001b[39;49m\u001b[43mupdate_offsets\u001b[49m\u001b[43m)\u001b[49m\n\u001b[1;32m    656\u001b[0m     \u001b[38;5;28;01mif\u001b[39;00m records:\n\u001b[1;32m    657\u001b[0m         \u001b[38;5;28;01mreturn\u001b[39;00m records\n",
      "File \u001b[0;32m/opt/conda/lib/python3.10/site-packages/kafka/consumer/group.py:702\u001b[0m, in \u001b[0;36mKafkaConsumer._poll_once\u001b[0;34m(self, timeout_ms, max_records, update_offsets)\u001b[0m\n\u001b[1;32m    699\u001b[0m     \u001b[38;5;28mself\u001b[39m\u001b[38;5;241m.\u001b[39m_client\u001b[38;5;241m.\u001b[39mpoll(timeout_ms\u001b[38;5;241m=\u001b[39m\u001b[38;5;241m0\u001b[39m)\n\u001b[1;32m    701\u001b[0m timeout_ms \u001b[38;5;241m=\u001b[39m \u001b[38;5;28mmin\u001b[39m(timeout_ms, \u001b[38;5;28mself\u001b[39m\u001b[38;5;241m.\u001b[39m_coordinator\u001b[38;5;241m.\u001b[39mtime_to_next_poll() \u001b[38;5;241m*\u001b[39m \u001b[38;5;241m1000\u001b[39m)\n\u001b[0;32m--> 702\u001b[0m \u001b[38;5;28;43mself\u001b[39;49m\u001b[38;5;241;43m.\u001b[39;49m\u001b[43m_client\u001b[49m\u001b[38;5;241;43m.\u001b[39;49m\u001b[43mpoll\u001b[49m\u001b[43m(\u001b[49m\u001b[43mtimeout_ms\u001b[49m\u001b[38;5;241;43m=\u001b[39;49m\u001b[43mtimeout_ms\u001b[49m\u001b[43m)\u001b[49m\n\u001b[1;32m    703\u001b[0m \u001b[38;5;66;03m# after the long poll, we should check whether the group needs to rebalance\u001b[39;00m\n\u001b[1;32m    704\u001b[0m \u001b[38;5;66;03m# prior to returning data so that the group can stabilize faster\u001b[39;00m\n\u001b[1;32m    705\u001b[0m \u001b[38;5;28;01mif\u001b[39;00m \u001b[38;5;28mself\u001b[39m\u001b[38;5;241m.\u001b[39m_coordinator\u001b[38;5;241m.\u001b[39mneed_rejoin():\n",
      "File \u001b[0;32m/opt/conda/lib/python3.10/site-packages/kafka/client_async.py:602\u001b[0m, in \u001b[0;36mKafkaClient.poll\u001b[0;34m(self, timeout_ms, future)\u001b[0m\n\u001b[1;32m    599\u001b[0m             timeout \u001b[38;5;241m=\u001b[39m \u001b[38;5;28mmin\u001b[39m(timeout, \u001b[38;5;28mself\u001b[39m\u001b[38;5;241m.\u001b[39mconfig[\u001b[38;5;124m'\u001b[39m\u001b[38;5;124mretry_backoff_ms\u001b[39m\u001b[38;5;124m'\u001b[39m])\n\u001b[1;32m    600\u001b[0m         timeout \u001b[38;5;241m=\u001b[39m \u001b[38;5;28mmax\u001b[39m(\u001b[38;5;241m0\u001b[39m, timeout)  \u001b[38;5;66;03m# avoid negative timeouts\u001b[39;00m\n\u001b[0;32m--> 602\u001b[0m     \u001b[38;5;28;43mself\u001b[39;49m\u001b[38;5;241;43m.\u001b[39;49m\u001b[43m_poll\u001b[49m\u001b[43m(\u001b[49m\u001b[43mtimeout\u001b[49m\u001b[43m \u001b[49m\u001b[38;5;241;43m/\u001b[39;49m\u001b[43m \u001b[49m\u001b[38;5;241;43m1000\u001b[39;49m\u001b[43m)\u001b[49m\n\u001b[1;32m    604\u001b[0m \u001b[38;5;66;03m# called without the lock to avoid deadlock potential\u001b[39;00m\n\u001b[1;32m    605\u001b[0m \u001b[38;5;66;03m# if handlers need to acquire locks\u001b[39;00m\n\u001b[1;32m    606\u001b[0m responses\u001b[38;5;241m.\u001b[39mextend(\u001b[38;5;28mself\u001b[39m\u001b[38;5;241m.\u001b[39m_fire_pending_completed_requests())\n",
      "File \u001b[0;32m/opt/conda/lib/python3.10/site-packages/kafka/client_async.py:634\u001b[0m, in \u001b[0;36mKafkaClient._poll\u001b[0;34m(self, timeout)\u001b[0m\n\u001b[1;32m    631\u001b[0m \u001b[38;5;28mself\u001b[39m\u001b[38;5;241m.\u001b[39m_register_send_sockets()\n\u001b[1;32m    633\u001b[0m start_select \u001b[38;5;241m=\u001b[39m time\u001b[38;5;241m.\u001b[39mtime()\n\u001b[0;32m--> 634\u001b[0m ready \u001b[38;5;241m=\u001b[39m \u001b[38;5;28;43mself\u001b[39;49m\u001b[38;5;241;43m.\u001b[39;49m\u001b[43m_selector\u001b[49m\u001b[38;5;241;43m.\u001b[39;49m\u001b[43mselect\u001b[49m\u001b[43m(\u001b[49m\u001b[43mtimeout\u001b[49m\u001b[43m)\u001b[49m\n\u001b[1;32m    635\u001b[0m end_select \u001b[38;5;241m=\u001b[39m time\u001b[38;5;241m.\u001b[39mtime()\n\u001b[1;32m    636\u001b[0m \u001b[38;5;28;01mif\u001b[39;00m \u001b[38;5;28mself\u001b[39m\u001b[38;5;241m.\u001b[39m_sensors:\n",
      "File \u001b[0;32m/opt/conda/lib/python3.10/selectors.py:469\u001b[0m, in \u001b[0;36mEpollSelector.select\u001b[0;34m(self, timeout)\u001b[0m\n\u001b[1;32m    467\u001b[0m ready \u001b[38;5;241m=\u001b[39m []\n\u001b[1;32m    468\u001b[0m \u001b[38;5;28;01mtry\u001b[39;00m:\n\u001b[0;32m--> 469\u001b[0m     fd_event_list \u001b[38;5;241m=\u001b[39m \u001b[38;5;28;43mself\u001b[39;49m\u001b[38;5;241;43m.\u001b[39;49m\u001b[43m_selector\u001b[49m\u001b[38;5;241;43m.\u001b[39;49m\u001b[43mpoll\u001b[49m\u001b[43m(\u001b[49m\u001b[43mtimeout\u001b[49m\u001b[43m,\u001b[49m\u001b[43m \u001b[49m\u001b[43mmax_ev\u001b[49m\u001b[43m)\u001b[49m\n\u001b[1;32m    470\u001b[0m \u001b[38;5;28;01mexcept\u001b[39;00m \u001b[38;5;167;01mInterruptedError\u001b[39;00m:\n\u001b[1;32m    471\u001b[0m     \u001b[38;5;28;01mreturn\u001b[39;00m ready\n",
      "\u001b[0;31mKeyboardInterrupt\u001b[0m: "
     ]
    }
   ],
   "source": [
    "\n",
    "for message in consumer:\n",
    "    event = message.value  # Ambil data event\n",
    "\n",
    "    user_id = event.get(\"user_id\")\n",
    "    amount = event.get(\"amount\", 0)\n",
    "\n",
    "    # Update total transaksi per user\n",
    "    user_totals[user_id] += amount\n",
    "\n",
    "    print(f\"User {user_id} - Total transaksi: {user_totals[user_id]}\")"
   ]
  },
  {
   "cell_type": "code",
   "execution_count": null,
   "metadata": {},
   "outputs": [],
   "source": [
    "# Simpan data transaksi ke JSON\n",
    "def save_to_json(user_totals, filename=f\"{data_folder}/transactions.json\"):\n",
    "    with open(filename, \"w\") as f:\n",
    "        json.dump(user_totals, f, indent=4)\n",
    "    print(f\"Data transaksi tersimpan di {filename}\")"
   ]
  },
  {
   "cell_type": "code",
   "execution_count": null,
   "metadata": {
    "tags": []
   },
   "outputs": [],
   "source": [
    "from kafka import TopicPartition\n",
    "\n",
    "consumer = KafkaConsumer(\n",
    "    group_id='dibimbing-group',\n",
    "    bootstrap_servers=[f'{kafka_host}:9092'],\n",
    "    value_deserializer=lambda m: json.loads(m.decode('ascii')),\n",
    "    auto_offset_reset='earliest',\n",
    "    enable_auto_commit=False\n",
    "                        )\n",
    "print(\"📥 Waiting for messages...\\n\")"
   ]
  }
 ],
 "metadata": {
  "kernelspec": {
   "display_name": "Python 3 (ipykernel)",
   "language": "python",
   "name": "python3"
  },
  "language_info": {
   "codemirror_mode": {
    "name": "ipython",
    "version": 3
   },
   "file_extension": ".py",
   "mimetype": "text/x-python",
   "name": "python",
   "nbconvert_exporter": "python",
   "pygments_lexer": "ipython3",
   "version": "3.10.10"
  }
 },
 "nbformat": 4,
 "nbformat_minor": 4
}
